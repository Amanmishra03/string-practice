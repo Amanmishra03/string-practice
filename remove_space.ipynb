{
 "cells": [
  {
   "cell_type": "markdown",
   "metadata": {},
   "source": [
    "Remove the extra spaces in beginning and in the end of the following string-\n",
    "text = '   this is not a good string    "
   ]
  },
  {
   "cell_type": "code",
   "execution_count": 1,
   "metadata": {},
   "outputs": [
    {
     "name": "stdout",
     "output_type": "stream",
     "text": [
      "this is not a good string\n",
      "   this is not a good string\n",
      "this is not a good string   \n"
     ]
    }
   ],
   "source": [
    "text = '   this is not a good string   '\n",
    "a = text.strip()\n",
    "b = text.rstrip()\n",
    "c = text.lstrip()\n",
    "\n",
    "print(a)\n",
    "print(b)\n",
    "print(c)\n",
    " \n"
   ]
  }
 ],
 "metadata": {
  "kernelspec": {
   "display_name": "base",
   "language": "python",
   "name": "python3"
  },
  "language_info": {
   "codemirror_mode": {
    "name": "ipython",
    "version": 3
   },
   "file_extension": ".py",
   "mimetype": "text/x-python",
   "name": "python",
   "nbconvert_exporter": "python",
   "pygments_lexer": "ipython3",
   "version": "3.11.4"
  },
  "orig_nbformat": 4
 },
 "nbformat": 4,
 "nbformat_minor": 2
}
